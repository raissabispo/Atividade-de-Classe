{
 "cells": [
  {
   "cell_type": "markdown",
   "metadata": {},
   "source": [
    "Aula 03\n"
   ]
  },
  {
   "cell_type": "code",
   "execution_count": 3,
   "metadata": {},
   "outputs": [],
   "source": [
    "valor01 = int(input(\"Digite um número inteiro: \"))\n",
    "valor02 = int(input(\"Digite outro número inteiro \"))"
   ]
  },
  {
   "cell_type": "code",
   "execution_count": 4,
   "metadata": {},
   "outputs": [
    {
     "name": "stdout",
     "output_type": "stream",
     "text": [
      "False\n",
      "False\n",
      "True\n",
      "False\n",
      "True\n"
     ]
    }
   ],
   "source": [
    "print(valor01 == valor02)  \n",
    "# o valor01 é igual(==) ao valor02?\n",
    "print(valor01 > valor02)\n",
    "# valor01 é maior que valor02?\n",
    "print(valor01 < valor02)\n",
    "# valor01 é menor que valor02? \n",
    "print(valor01 >= valor02)\n",
    "#o valor 01 é maior ou igual ao valor02?\n",
    "print(valor01 <= valor02) \n",
    "#o valor01 é menor ou igual ao valor02?\n"
   ]
  },
  {
   "cell_type": "markdown",
   "metadata": {},
   "source": [
    "\n",
    "\n",
    "Tabela verdade:\n",
    "and(&&) e or(||):\n",
    "\n",
    "\n"
   ]
  },
  {
   "cell_type": "code",
   "execution_count": 6,
   "metadata": {},
   "outputs": [
    {
     "name": "stdout",
     "output_type": "stream",
     "text": [
      "False\n"
     ]
    }
   ],
   "source": [
    "numero = 10\n",
    "print(numero > 0 and numero < 10 )\n",
    "# o 10 é maior do que 0? true\n",
    "# o 10 é menor do que 10? false\n",
    "#  = false"
   ]
  },
  {
   "cell_type": "markdown",
   "metadata": {},
   "source": [
    "Desvio condicional: if(se) e o else(se não)\n",
    "\n",
    "estrutura:\n",
    "if():\n",
    " print()\n",
    " else: \n",
    " print()"
   ]
  },
  {
   "cell_type": "code",
   "execution_count": 12,
   "metadata": {},
   "outputs": [
    {
     "name": "stdout",
     "output_type": "stream",
     "text": [
      "o número é par\n"
     ]
    }
   ],
   "source": [
    "numero = int(input(\"Digite um numero inteiro: \"))\n",
    "resultado = numero % 2\n",
    "if(resultado == 0):\n",
    "    print(\"o número é par\")\n",
    "else:\n",
    "    print(\"o número é impar\")"
   ]
  },
  {
   "cell_type": "code",
   "execution_count": 2,
   "metadata": {},
   "outputs": [
    {
     "name": "stdout",
     "output_type": "stream",
     "text": [
      "Você ganhou 10% de desconto, Raissa !\n"
     ]
    }
   ],
   "source": [
    "\n",
    "nome = input(\"Digite o seu nome\")\n",
    "cupom = input(\"Digite o cupom\")\n",
    "if(cupom == \"aula01\" or cupom == \"aula02\"):\n",
    "    print(\"Você ganhou 10% de desconto,\",nome,\"!\")\n",
    "else:\n",
    "    print(\"O cupom está inválido,\",nome,\".\")"
   ]
  }
 ],
 "metadata": {
  "kernelspec": {
   "display_name": "Python 3",
   "language": "python",
   "name": "python3"
  },
  "language_info": {
   "codemirror_mode": {
    "name": "ipython",
    "version": 3
   },
   "file_extension": ".py",
   "mimetype": "text/x-python",
   "name": "python",
   "nbconvert_exporter": "python",
   "pygments_lexer": "ipython3",
   "version": "3.11.9"
  }
 },
 "nbformat": 4,
 "nbformat_minor": 2
}
